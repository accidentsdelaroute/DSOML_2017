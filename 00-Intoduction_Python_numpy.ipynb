{
 "cells": [
  {
   "cell_type": "markdown",
   "metadata": {},
   "source": [
    "# Introduction to Python and Numpy"
   ]
  },
  {
   "cell_type": "markdown",
   "metadata": {},
   "source": [
    "\n",
    "We introduce here the Python language. Only the bare minimum\n",
    "necessary for getting started with Numpy and Scipy is addressed here.\n",
    "To learn more about the language, consider going through the\n",
    "excellent tutorial http://www.scipy-lectures.org/intro/index.html. \n",
    "\n",
    "The structure of this lecture is:\n",
    "\n",
    "   - **Part 0**: introduction to Python and Numpy.\n",
    "\n",
    "   - **Part I**: batch gradient descent, visualize convergence.\n",
    "\n",
    "   - **Part II**: exercise: accelerated gradient descent, run, check results.\n",
    "\n",
    "   \n"
   ]
  },
  {
   "cell_type": "markdown",
   "metadata": {},
   "source": [
    "\n",
    "## Requirements\n",
    "\n",
    "To follow this course you will need to have Python with the following libraries: numpy, numba, scipy, matplotlib, jupyter. We will access Python through the [jupyter notebook](http://jupyter.org) interface.\n",
    "\n",
    "The recommended way to have all the necessary packages is by simply downloading and installing the [Anaconda](https://www.continuum.io/downloads) distribution.\n",
    "\n",
    "For those that already have Anaconda or Miniconda installed, the aforementioned packages can be installed/updated by typing in the command line\n",
    "\n",
    "    conda install numpy numba scipy matplotlib\n"
   ]
  },
  {
   "cell_type": "markdown",
   "metadata": {},
   "source": [
    "\n",
    "\n",
    "## Introduction\n",
    "\n",
    "Python is a **programming language**, as are C, Fortran, BASIC, PHP,\n",
    "etc. Some specific features of Python are as follows:\n",
    "\n",
    "* an *interpreted* (as opposed to *compiled*) language. Contrary to e.g.\n",
    "C or Fortran, one does not compile Python code before executing it. In\n",
    "addition, Python can be used **interactively**: many Python\n",
    "interpreters are available, from which commands and scripts can be\n",
    "executed.\n",
    "\n",
    "* a free software released under an **open-source** license: Python can\n",
    "be used and distributed free of charge, even for building commercial\n",
    "software.\n",
    "\n",
    "* **multi-platform**: Python is available for all major operating\n",
    "systems, Windows, Linux/Unix, MacOS X, most likely your mobile phone\n",
    "OS, etc.\n",
    "\n",
    "* a very readable language with clear non-verbose syntax\n",
    "\n",
    "* a language for which a large variety of high-quality packages are\n",
    "available for various applications, from web frameworks to scientific\n",
    "computing.\n",
    "\n",
    "* a language very easy to interface with other languages, in particular C\n",
    "and C++.\n",
    "\n",
    "* Some other features of the language are illustrated just below. For\n",
    "example, Python is an object-oriented language, with dynamic typing\n",
    "(the same variable can contain objects of different types during the\n",
    "course of a program).\n",
    "\n",
    "\n",
    "See https://www.python.org/about/ for more information about\n",
    "distinguishing features of Python."
   ]
  },
  {
   "cell_type": "markdown",
   "metadata": {},
   "source": [
    "# Hello world\n",
    "\n",
    "you type in the cells, execute commands with shift + Enter\n",
    "\n",
    "```print(\"Hello world\")```"
   ]
  },
  {
   "cell_type": "code",
   "execution_count": null,
   "metadata": {
    "collapsed": false
   },
   "outputs": [],
   "source": [
    "print(\"Hello world\")"
   ]
  },
  {
   "cell_type": "markdown",
   "metadata": {},
   "source": [
    "## Floats, Ints, etc.\n",
    "\n",
    "There contains the basic data types  a floating point type that is created when the variable has decimal values:\n",
    "\n",
    "    c = 2.1\n",
    "    type(c)"
   ]
  },
  {
   "cell_type": "code",
   "execution_count": null,
   "metadata": {
    "collapsed": false
   },
   "outputs": [],
   "source": [
    "c = 2.1"
   ]
  },
  {
   "cell_type": "code",
   "execution_count": null,
   "metadata": {
    "collapsed": false
   },
   "outputs": [],
   "source": [
    "type(c)"
   ]
  },
  {
   "cell_type": "markdown",
   "metadata": {},
   "source": [
    "#  Containers\n",
    "\n",
    "_Tip_: Python provides many efficient types of containers, in which collections of objects can be stored.\n",
    "\n",
    "## Lists\n",
    "\n",
    "A list is an ordered collection of objects, that may have different types. For example:\n"
   ]
  },
  {
   "cell_type": "markdown",
   "metadata": {},
   "source": [
    "    colors = ['red', 'blue', 'green', 'black', 'white']\n",
    "    type(colors)"
   ]
  },
  {
   "cell_type": "code",
   "execution_count": null,
   "metadata": {
    "collapsed": false
   },
   "outputs": [],
   "source": [
    "colors = ['red', 'blue', 'green', 'black', 'white']"
   ]
  },
  {
   "cell_type": "code",
   "execution_count": null,
   "metadata": {
    "collapsed": false
   },
   "outputs": [],
   "source": [
    "type(colors)"
   ]
  },
  {
   "cell_type": "markdown",
   "metadata": {},
   "source": [
    "Indexing: accessing individual objects contained in the list::"
   ]
  },
  {
   "cell_type": "code",
   "execution_count": null,
   "metadata": {
    "collapsed": false
   },
   "outputs": [],
   "source": [
    "colors[2]"
   ]
  },
  {
   "cell_type": "markdown",
   "metadata": {},
   "source": [
    "<img style=\"float: left; width: 50px; top: -20px\" src=\"https://cdn1.iconfinder.com/data/icons/hawcons/32/700303-icon-61-warning-128.png\" /> WARNING: **Indexing starts at 0** (as in C), not at 1 (as in Fortran or Matlab)\n",
    "\n",
    "Counting from the end with negative indices:"
   ]
  },
  {
   "cell_type": "code",
   "execution_count": null,
   "metadata": {
    "collapsed": false
   },
   "outputs": [],
   "source": [
    "colors[-2]"
   ]
  },
  {
   "cell_type": "markdown",
   "metadata": {},
   "source": [
    "## Slicing: obtaining sublists of regularly-spaced elements\n"
   ]
  },
  {
   "cell_type": "code",
   "execution_count": null,
   "metadata": {
    "collapsed": false
   },
   "outputs": [],
   "source": [
    "colors"
   ]
  },
  {
   "cell_type": "code",
   "execution_count": null,
   "metadata": {
    "collapsed": false
   },
   "outputs": [],
   "source": [
    "colors[1:5:2]"
   ]
  },
  {
   "cell_type": "markdown",
   "metadata": {},
   "source": [
    "**Slicing syntax**: ``colors[start:stop:stride]``\n",
    "\n",
    "  _Tip_: All slicing parameters are optional::"
   ]
  },
  {
   "cell_type": "code",
   "execution_count": null,
   "metadata": {
    "collapsed": false
   },
   "outputs": [],
   "source": [
    "colors"
   ]
  },
  {
   "cell_type": "code",
   "execution_count": null,
   "metadata": {
    "collapsed": false
   },
   "outputs": [],
   "source": [
    "colors[3:]"
   ]
  },
  {
   "cell_type": "code",
   "execution_count": null,
   "metadata": {
    "collapsed": false
   },
   "outputs": [],
   "source": [
    "colors[:3]"
   ]
  },
  {
   "cell_type": "markdown",
   "metadata": {},
   "source": [
    "### Exercise: what is the output of ```colors[::2]```. Why?\n",
    "\n"
   ]
  },
  {
   "cell_type": "code",
   "execution_count": null,
   "metadata": {
    "collapsed": false
   },
   "outputs": [],
   "source": [
    "colors[::2]"
   ]
  },
  {
   "cell_type": "markdown",
   "metadata": {},
   "source": [
    "### Exercise: reverse a list"
   ]
  },
  {
   "cell_type": "code",
   "execution_count": null,
   "metadata": {
    "collapsed": false
   },
   "outputs": [],
   "source": [
    "colors[::-1]"
   ]
  },
  {
   "cell_type": "code",
   "execution_count": null,
   "metadata": {
    "collapsed": true
   },
   "outputs": [],
   "source": [
    "s = \"asdfdfd\""
   ]
  },
  {
   "cell_type": "markdown",
   "metadata": {},
   "source": [
    "# Control Flow\n",
    "\n",
    "Controls the order in which the code is executed.\n",
    "\n",
    "## if/elif/else\n",
    "\n",
    "    if 2**2 == 4:\n",
    "        print('Obvious!')"
   ]
  },
  {
   "cell_type": "code",
   "execution_count": null,
   "metadata": {
    "collapsed": true
   },
   "outputs": [],
   "source": [
    "s = \"\"\"asdfadsf\n",
    "asdfdf\n",
    "asdfdf\n",
    "\"\"\""
   ]
  },
  {
   "cell_type": "markdown",
   "metadata": {},
   "source": [
    "# for/range\n",
    "\n",
    "Iterating with an index::\n",
    "\n",
    "    >>> for i in range(4):\n",
    "    ...     print(i)\n",
    "    0\n",
    "    1\n",
    "    2\n",
    "    3\n"
   ]
  },
  {
   "cell_type": "code",
   "execution_count": 1,
   "metadata": {
    "collapsed": false
   },
   "outputs": [
    {
     "name": "stdout",
     "output_type": "stream",
     "text": [
      "0\n",
      "2\n",
      "4\n",
      "6\n",
      "8\n"
     ]
    }
   ],
   "source": [
    "for i in range(0, 10, 2):\n",
    "    print(i)"
   ]
  },
  {
   "cell_type": "markdown",
   "metadata": {},
   "source": [
    "But most often, it is more readable to iterate over values::\n",
    "\n",
    "    >>> for word in ('cool', 'powerful', 'readable'):\n",
    "    ...     print('Python is %s' % word)\n",
    "    Python is cool\n",
    "    Python is powerful\n",
    "    Python is readable"
   ]
  },
  {
   "cell_type": "code",
   "execution_count": 40,
   "metadata": {
    "collapsed": false
   },
   "outputs": [
    {
     "name": "stdout",
     "output_type": "stream",
     "text": [
      "green\n",
      "blue\n",
      "yellow\n"
     ]
    }
   ],
   "source": [
    "for word in ['green', 'blue', 'yellow']:\n",
    "    print(word)"
   ]
  },
  {
   "cell_type": "markdown",
   "metadata": {},
   "source": [
    "\n",
    "## Blocks are delimited by indentation!\n",
    "\n",
    "_Tip_: Type the following lines in your Python interpreter, and be careful\n",
    "to **respect the indentation depth**. The Ipython shell automatically\n",
    "increases the indentation depth after a colon ``:`` sign; to\n",
    "decrease the indentation depth, go four spaces to the left with the\n",
    "Backspace key. Press the Enter key twice to leave the logical block.\n",
    "\n",
    "    >>> a = 10\n",
    "\n",
    "    >>> if a == 1:\n",
    "    ...     print(1)\n",
    "    ... elif a == 2:\n",
    "    ...     print(2)\n",
    "    ... else:\n",
    "    ...     print('A lot')\n",
    "    A lot\n",
    "\n"
   ]
  },
  {
   "cell_type": "markdown",
   "metadata": {},
   "source": [
    "# Defining functions\n",
    "\n",
    "### Function definition\n",
    "    def test():\n",
    "        print('in test function')\n",
    "\n",
    "    >>> test()\n",
    "    in test function\n",
    "\n",
    "Warning: Function blocks must be indented as other control-flow blocks.\n",
    "\n"
   ]
  },
  {
   "cell_type": "code",
   "execution_count": 2,
   "metadata": {
    "collapsed": true
   },
   "outputs": [],
   "source": [
    "def test():\n",
    "    print('in test function')"
   ]
  },
  {
   "cell_type": "markdown",
   "metadata": {},
   "source": [
    "### Return statement\n",
    "\n",
    "Functions can *optionally* return values.\n",
    "\n",
    "\n",
    "    >>> def disk_area(radius):\n",
    "       ...:     return 3.14 * radius * radius\n",
    "       ...:\n",
    "\n",
    "    >>> disk_area(1.5)\n",
    "    >>> 7.0649999999999995\n",
    "\n",
    "Note: By default, functions return ``None``.\n",
    "\n",
    "The syntax to define a function:\n",
    "\n",
    "    * the ``def`` keyword;\n",
    "\n",
    "    * is followed by the function's **name**, then\n",
    "\n",
    "    * the arguments of the function are given between parentheses followed\n",
    "      by a colon.\n",
    "\n",
    "    * the function body;\n",
    "\n",
    "    * and ``return object`` for optionally returning values.\n",
    "\n",
    "\n"
   ]
  },
  {
   "cell_type": "markdown",
   "metadata": {},
   "source": [
    "\n",
    "### Parameters\n",
    "\n",
    "Mandatory parameters (positional arguments)\n",
    "\n",
    "\n",
    "    >>> def double_it(x):\n",
    "       ....:     return x * 2\n",
    "       ....:\n",
    "\n",
    "    >>> double_it(3)\n",
    "    >>> 6\n",
    "\n",
    "    >>> double_it()\n",
    "    ---------------------------------------------------------------------------\n",
    "    Traceback (most recent call last):\n",
    "      File \"<stdin>\", line 1, in <module>\n",
    "    TypeError: double_it() takes exactly 1 argument (0 given)\n",
    "\n",
    "Optional parameters (keyword or named arguments)\n",
    "\n",
    "\n",
    "    >>> def double_it(x=2):\n",
    "       ....:     return x * 2\n",
    "       ....:\n",
    "\n",
    "    >>> double_it()\n",
    "    >>> 4\n",
    "\n",
    "    >>> double_it(3)\n",
    "    >>> 6\n",
    "\n",
    "Keyword arguments allow you to specify *default values*.\n"
   ]
  },
  {
   "cell_type": "markdown",
   "metadata": {},
   "source": [
    "\n",
    "# The NumPy array object\n",
    "\n",
    "\n",
    "### What are NumPy and NumPy arrays?\n",
    "\n",
    "NumPy arrays are\n",
    "\n",
    "\n",
    "**Python** objects:\n",
    "\n",
    "  - high-level number objects: integers, floating point\n",
    "\n",
    "  - containers: lists (costless insertion and append), dictionaries\n",
    "      (fast lookup)\n",
    "\n",
    "\n",
    "**NumPy** provides:\n",
    "\n",
    "  - extension package to Python for multi-dimensional arrays\n",
    "\n",
    "  - closer to hardware (efficiency)\n",
    "\n",
    "  - designed for scientific computation (convenience)\n",
    "\n",
    "  - Also known as *array oriented computing*"
   ]
  },
  {
   "cell_type": "code",
   "execution_count": 5,
   "metadata": {
    "collapsed": false
   },
   "outputs": [
    {
     "name": "stdout",
     "output_type": "stream",
     "text": [
      "[0 1 2 3]\n"
     ]
    }
   ],
   "source": [
    "import numpy as np\n",
    "a = np.array([0, 1, 2, 3])\n",
    "print(a)"
   ]
  },
  {
   "cell_type": "markdown",
   "metadata": {},
   "source": [
    "\n",
    "**Why it is useful:** Memory-efficient container that provides fast numerical\n",
    "operations."
   ]
  },
  {
   "cell_type": "code",
   "execution_count": 7,
   "metadata": {
    "collapsed": false
   },
   "outputs": [
    {
     "name": "stdout",
     "output_type": "stream",
     "text": [
      "1000 loops, best of 3: 337 µs per loop\n"
     ]
    }
   ],
   "source": [
    "a = range(1000)\n",
    "%timeit [i**2 for i in L]"
   ]
  },
  {
   "cell_type": "code",
   "execution_count": 8,
   "metadata": {
    "collapsed": false
   },
   "outputs": [
    {
     "name": "stdout",
     "output_type": "stream",
     "text": [
      "The slowest run took 14.89 times longer than the fastest. This could mean that an intermediate result is being cached.\n",
      "1000000 loops, best of 3: 1.29 µs per loop\n"
     ]
    }
   ],
   "source": [
    "a = np.arange(1000)\n",
    "%timeit a**2"
   ]
  },
  {
   "cell_type": "markdown",
   "metadata": {},
   "source": [
    "## NumPy Reference documentation\n",
    "\n",
    "- On the web: http://docs.scipy.org/\n",
    "\n",
    "- Interactive help:\n",
    "\n",
    "     ```python\n",
    "     np.array?\n",
    "     ```\n"
   ]
  },
  {
   "cell_type": "markdown",
   "metadata": {},
   "source": [
    "## Creating arrays\n",
    "\n",
    "### Manual construction of arrays\n",
    "\n",
    "* **1-D**:\n",
    "\n",
    "  ```python\n",
    "\n",
    "    >>> a = np.array([0, 1, 2, 3])\n",
    "    >>> a\n",
    "    array([0, 1, 2, 3])\n",
    "    >>> a.ndim\n",
    "    1\n",
    "    >>> a.shape\n",
    "    (4,)\n",
    "    >>> len(a)\n",
    "    4\n",
    "    ```\n",
    "\n",
    "* **2-D, 3-D, etc**:\n",
    "\n",
    "  ```python\n",
    "\n",
    "    >>> b = np.array([[0, 1, 2], [3, 4, 5]])    # 2 x 3 array\n",
    "    >>> b\n",
    "    array([[0, 1, 2],\n",
    "           [3, 4, 5]])\n",
    "    >>> b.ndim\n",
    "    2\n",
    "    >>> b.shape\n",
    "    (2, 3)\n",
    "    >>> len(b)     # returns the size of the first dimension\n",
    "    2\n",
    "\n",
    "    >>> c = np.array([[[1], [2]], [[3], [4]]])\n",
    "    >>> c\n",
    "    array([[[1],\n",
    "            [2]],\n",
    "    <BLANKLINE>\n",
    "           [[3],\n",
    "            [4]]])\n",
    "    >>> c.shape\n",
    "    (2, 2, 1)\n",
    "    ```\n"
   ]
  },
  {
   "cell_type": "markdown",
   "metadata": {},
   "source": [
    "\n",
    "## Functions for creating arrays\n",
    "\n",
    "In practice, we rarely enter items one by one...\n",
    "\n",
    "* Evenly spaced:\n",
    "\n",
    "\n",
    "    >>> a = np.arange(10) # 0 .. n-1  (!)\n",
    "    >>> a\n",
    "    array([0, 1, 2, 3, 4, 5, 6, 7, 8, 9])\n",
    "    >>> b = np.arange(1, 9, 2) # start, end (exclusive), step\n",
    "    >>> b\n",
    "    array([1, 3, 5, 7])\n",
    "\n",
    "* or by number of points:\n",
    "\n",
    "\n",
    "    >>> c = np.linspace(0, 1, 6)   # start, end, num-points\n",
    "    >>> c\n",
    "    array([ 0. ,  0.2,  0.4,  0.6,  0.8,  1. ])\n",
    "    >>> d = np.linspace(0, 1, 5, endpoint=False)\n",
    "    >>> d\n",
    "    array([ 0. ,  0.2,  0.4,  0.6,  0.8])\n",
    "\n",
    "* Common arrays:\n",
    "\n",
    "    ```\n",
    "    >>> a = np.ones((3, 3))  # reminder: (3, 3) is a tuple\n",
    "    >>> a\n",
    "    array([[ 1.,  1.,  1.],\n",
    "           [ 1.,  1.,  1.],\n",
    "           [ 1.,  1.,  1.]])\n",
    "    >>> b = np.zeros((2, 2))\n",
    "    >>> b\n",
    "    array([[ 0.,  0.],\n",
    "           [ 0.,  0.]])\n",
    "    >>> c = np.eye(3)\n",
    "    >>> c\n",
    "    array([[ 1.,  0.,  0.],\n",
    "           [ 0.,  1.,  0.],\n",
    "           [ 0.,  0.,  1.]])\n",
    "    >>> d = np.diag(np.array([1, 2, 3, 4]))\n",
    "    >>> d\n",
    "    array([[1, 0, 0, 0],\n",
    "           [0, 2, 0, 0],\n",
    "           [0, 0, 3, 0],\n",
    "           [0, 0, 0, 4]])\n",
    "    ```\n"
   ]
  },
  {
   "cell_type": "markdown",
   "metadata": {},
   "source": [
    ".. EXE: construct 1 2 3 4 5\n",
    "\n",
    ".. EXE: construct -5, -4, -3, -2, -1\n",
    "\n",
    ".. EXE: construct 2 4 6 8\n",
    "\n",
    ".. EXE: look what is in an empty() array\n",
    "\n",
    ".. EXE: construct 15 equispaced numbers in range [0, 10]"
   ]
  },
  {
   "cell_type": "markdown",
   "metadata": {
    "collapsed": false
   },
   "source": [
    "Basic data types\n",
    "----------------\n",
    "\n",
    "You may have noticed that, in some instances, array elements are displayed with\n",
    "a trailing dot (e.g. ``2.`` vs ``2``). This is due to a difference in the\n",
    "data-type used:\n",
    "\n",
    "    >>> a = np.array([1, 2, 3])\n",
    "    >>> a.dtype\n",
    "    dtype('int64')\n",
    "\n",
    "    >>> b = np.array([1., 2., 3.])\n",
    "    >>> b.dtype\n",
    "    dtype('float64')\n",
    "\n",
    "    Different data-types allow us to store data more compactly in memory,\n",
    "    but most of the time we simply work with floating point numbers.\n",
    "    Note that, in the example above, NumPy auto-detects the data-type\n",
    "    from the input.\n",
    "\n",
    "-----------------------------\n",
    "\n",
    "You can explicitly specify which data-type you want:\n",
    "\n",
    "    >>> c = np.array([1, 2, 3], dtype=float)\n",
    "    >>> c.dtype\n",
    "    dtype('float64')\n",
    "\n",
    "\n",
    "The **default** data type is floating point:\n",
    "\n",
    "\n",
    "    >>> a = np.ones((3, 3))\n",
    "    >>> a.dtype\n",
    "    dtype('float64')\n",
    "\n",
    "There are also other types:\n",
    "\n",
    "Complex:\n",
    "\n",
    "\n",
    "        >>> d = np.array([1+2j, 3+4j, 5+6*1j])\n",
    "        >>> d.dtype\n",
    "        dtype('complex128')\n",
    "\n",
    ":Bool:\n",
    "\n",
    "\n",
    "        >>> e = np.array([True, False, False, True])\n",
    "        >>> e.dtype\n",
    "        dtype('bool')\n",
    "\n",
    ":Strings:\n",
    "\n",
    "\n",
    "        >>> f = np.array(['Bonjour', 'Hello', 'Hallo',])\n",
    "        >>> f.dtype     # <--- strings containing max. 7 letters  # doctest: +SKIP\n",
    "        dtype('S7')\n",
    "\n",
    "Much more...\n",
    "\n",
    "    * ``int32``\n",
    "    * ``int64``\n",
    "    * ``uint32``\n",
    "    * ``uint64``\n",
    "\n"
   ]
  },
  {
   "cell_type": "code",
   "execution_count": null,
   "metadata": {
    "collapsed": true
   },
   "outputs": [],
   "source": []
  },
  {
   "cell_type": "code",
   "execution_count": null,
   "metadata": {
    "collapsed": true
   },
   "outputs": [],
   "source": []
  },
  {
   "cell_type": "markdown",
   "metadata": {},
   "source": []
  }
 ],
 "metadata": {
  "kernelspec": {
   "display_name": "Python 3",
   "language": "python",
   "name": "python3"
  },
  "language_info": {
   "codemirror_mode": {
    "name": "ipython",
    "version": 3
   },
   "file_extension": ".py",
   "mimetype": "text/x-python",
   "name": "python",
   "nbconvert_exporter": "python",
   "pygments_lexer": "ipython3",
   "version": "3.5.2"
  }
 },
 "nbformat": 4,
 "nbformat_minor": 0
}

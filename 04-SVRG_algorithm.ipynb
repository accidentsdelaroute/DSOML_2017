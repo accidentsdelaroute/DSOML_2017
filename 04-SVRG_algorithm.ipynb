{
 "cells": [
  {
   "cell_type": "markdown",
   "metadata": {},
   "source": [
    "# The SVRG algorithm\n",
    "\n",
    "\n",
    "The SVRG algorithm (stochastic variance-reduced gradient REF) is very similar to the SAGA algorithm. Its main advantage is that it does \n",
    "\n",
    "As before, we consider the problem of minimizing a finite sum of convex terms:\n",
    "$$\n",
    "\\text{argmin}_{\\theta} \\frac{1}{n} \\sum_{i=1}^n l_i(\\theta)\n",
    "$$\n",
    "\n",
    "The basic algorithm is relies on two moving quantities: a vector of coefficients $\\theta \\in \\mathbb{R}^p$ and a table $g \\in \\mathbb{R}^{n \\times p}$ to store the previous gradients. Then the basic iteration is given by the recursion \n",
    "\n",
    "$$\n",
    "\\theta^+ = \\theta - \\gamma (\\nabla l_i(\\theta) - \\nabla l_i(\\tilde{\\theta}) + \\nabla l(\\tilde{\\theta}))\n",
    "$$\n",
    "\n",
    "where at a given interval (say once per epoch), we update $\\tilde{\\theta} = \\theta$ and compute $\\nabla l(\\tilde{\\theta}) = \\frac{1}{n}\\sum_i \\nabla l_i(\\theta)$.\n",
    "\n",
    "\n",
    "<span style=\"color: red; font-weight: bold\" />Task 1: implement this algorithm and check for convergence. Below is a template for this following the SAGA algorithm.</span>\n",
    "\n",
    "<span style=\"color: red; font-weight: bold\" />Task 2: Decorate with @njit for efficiency.</span>\n",
    "\n",
    "<span style=\"color: red; font-weight: bold\" />Task 3: Compare with SAGA in terms of number of epochs.</span>\n",
    "\n",
    "\n",
    "### References\n",
    "\n",
    "[DSOML Course slides 4](http://marcocuturi.net/Teaching/ENSAE/2017/DSOML/DSOML4.pdf)\n",
    "\n",
    "Johnson, Rie, and Tong Zhang. [\"Accelerating stochastic gradient descent using predictive variance reduction.\"](https://papers.nips.cc/paper/4937-accelerating-stochastic-gradient-descent-using-predictive-variance-reduction.pdf) Advances in Neural Information Processing Systems. 2013.\n",
    "\n",
    "\n"
   ]
  },
  {
   "cell_type": "code",
   "execution_count": 1,
   "metadata": {
    "collapsed": false
   },
   "outputs": [
    {
     "name": "stdout",
     "output_type": "stream",
     "text": [
      "Populating the interactive namespace from numpy and matplotlib\n"
     ]
    }
   ],
   "source": [
    "%pylab inline\n",
    "import numpy as np"
   ]
  },
  {
   "cell_type": "code",
   "execution_count": 2,
   "metadata": {
    "collapsed": true
   },
   "outputs": [],
   "source": [
    "# we will reuse the same set up as for SGD\n",
    "\n",
    "np.random.seed(0)\n",
    "\n",
    "n_samples, n_features = 100, 10\n",
    "A = np.random.randn(n_samples, n_features)\n",
    "w = np.random.randn(n_features)\n",
    "b = A.dot(w) + np.random.randn(n_samples)\n",
    "step_size = 1.0 / (3 * np.max((A * A).sum(1)))\n",
    "\n",
    "\n",
    "def func(theta):\n",
    "    return 0.5 * np.sum((b - np.dot(A, theta)) ** 2)\n",
    "\n",
    "def grad(theta):\n",
    "    return - A.T.dot(b - np.dot(A, theta))\n",
    "\n",
    "def partial_grad(theta, i):\n",
    "    return - A[i] * (b[i] - np.dot(A[i], theta))"
   ]
  },
  {
   "cell_type": "code",
   "execution_count": 8,
   "metadata": {
    "collapsed": true
   },
   "outputs": [],
   "source": [
    "from numba import njit\n",
    "\n",
    "\n",
    "@njit\n",
    "def grad_jit(theta):\n",
    "    return - np.dot(A.T, b - np.dot(A, theta)) / n_samples\n",
    "\n",
    "@njit\n",
    "def partial_grad_jit(theta, i):\n",
    "    return - A[i] * (b[i] - np.dot(A[i], theta))\n",
    "\n",
    "def SVRG(A, b, max_iter=500):\n",
    "\n",
    "    # .. initial guess (could be anything) ..\n",
    "    theta_k = np.zeros(n_features)\n",
    "\n",
    "    # .. to keep track of the gradient (for plotting purposes) ..\n",
    "    grad_history = np.ones(max_iter)\n",
    "\n",
    "    # .. main loop ..\n",
    "    for i in range(n_samples * max_iter):\n",
    "        # .. pick random sample ..\n",
    "        idx = np.random.randint(0, n_samples)\n",
    "\n",
    "        # .. compute and apply SVRG update rule ..\n",
    "        svrg_update = XXXX\n",
    "        theta_k = theta_k - step_size * svrg_update\n",
    "\n",
    "        # .. save gradient (for plotting purposes) every epoch ..\n",
    "        if i % n_samples == 0:\n",
    "            grad_history[i // n_samples] = np.linalg.norm(grad_jit(theta_k))\n",
    "\n",
    "    return theta_k, grad_history\n",
    "\n",
    "sol, grad_history = SVRG(A, b)"
   ]
  },
  {
   "cell_type": "code",
   "execution_count": 9,
   "metadata": {
    "collapsed": false
   },
   "outputs": [
    {
     "data": {
      "image/png": "[encoded data removed]",
      "text/plain": [
       "<matplotlib.figure.Figure at 0x118df4fd0>"
      ]
     },
     "metadata": {},
     "output_type": "display_data"
    }
   ],
   "source": [
    "plt.plot(grad_history, lw=4)\n",
    "plt.grid()\n",
    "plt.yscale('log')\n",
    "plt.ylabel('Function suboptimality')\n",
    "plt.xlabel('Number of epochs')\n",
    "plt.show()"
   ]
  },
  {
   "cell_type": "code",
   "execution_count": null,
   "metadata": {
    "collapsed": true
   },
   "outputs": [],
   "source": []
  }
 ],
 "metadata": {
  "kernelspec": {
   "display_name": "Python 3",
   "language": "python",
   "name": "python3"
  },
  "language_info": {
   "codemirror_mode": {
    "name": "ipython",
    "version": 3
   },
   "file_extension": ".py",
   "mimetype": "text/x-python",
   "name": "python",
   "nbconvert_exporter": "python",
   "pygments_lexer": "ipython3",
   "version": "3.6.0"
  }
 },
 "nbformat": 4,
 "nbformat_minor": 2
}
